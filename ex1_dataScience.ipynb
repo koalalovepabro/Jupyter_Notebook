{
 "cells": [
  {
   "cell_type": "markdown",
   "id": "3a51e498",
   "metadata": {},
   "source": [
    "## 사이킷런으로 Linear Regression 모델을 사용해보자"
   ]
  },
  {
   "cell_type": "code",
   "execution_count": 2,
   "id": "a66f85a7",
   "metadata": {},
   "outputs": [],
   "source": [
    "# 패키지를 import\n",
    "import numpy as np\n",
    "from sklearn.linear_model import LinearRegression"
   ]
  },
  {
   "cell_type": "code",
   "execution_count": 3,
   "id": "4433b028",
   "metadata": {},
   "outputs": [
    {
     "name": "stdout",
     "output_type": "stream",
     "text": [
      "[0 1 2 3 4 5 6 7 8 9]\n",
      "(10,)\n"
     ]
    }
   ],
   "source": [
    "# 1차원 데이터\n",
    "# x = [0,1,2,3,4,5,6,7,8,9]\n",
    "# arange = array + range\n",
    "\n",
    "x = np.arange(10)\n",
    "print(x)             # 벡터 형태의 데이터\n",
    "print(x.shape)"
   ]
  },
  {
   "cell_type": "code",
   "execution_count": 4,
   "id": "a23a8dc4",
   "metadata": {},
   "outputs": [
    {
     "name": "stdout",
     "output_type": "stream",
     "text": [
      "[[0]\n",
      " [1]\n",
      " [2]\n",
      " [3]\n",
      " [4]\n",
      " [5]\n",
      " [6]\n",
      " [7]\n",
      " [8]\n",
      " [9]]\n",
      "(10, 1)\n"
     ]
    }
   ],
   "source": [
    "# x.shape => (10, 1)\n",
    "# 2차원 데이터\n",
    "# (np.arange(10)) -> reshape(-1,1)\n",
    "\n",
    "x = np.arange(10).reshape(-1, 1)  # reshpe : 차원변환\n",
    "print(x)\n",
    "print(x.shape)"
   ]
  },
  {
   "cell_type": "code",
   "execution_count": 13,
   "id": "01d1e1e5",
   "metadata": {},
   "outputs": [
    {
     "name": "stdout",
     "output_type": "stream",
     "text": [
      "[[ 0  1  2  3  4  5]\n",
      " [ 6  7  8  9 10 11]]\n"
     ]
    }
   ],
   "source": [
    "# reshape\n",
    "# 행과 열 中 행에 -1을 입혁 한 경우\n",
    "# 열을 특정숫자로 고정하고 행을 데이터에 맞게 설정 해 준다.\n",
    "\n",
    "x = np.arange(12)\n",
    "x = x.reshape(2,-1)\n",
    "print(x)"
   ]
  },
  {
   "cell_type": "code",
   "execution_count": null,
   "id": "ffb57168",
   "metadata": {},
   "outputs": [],
   "source": []
  },
  {
   "cell_type": "code",
   "execution_count": null,
   "id": "7de2d179",
   "metadata": {},
   "outputs": [],
   "source": [
    "# 연습 끝 ~ 아래 코드부터 새로 분리 !!"
   ]
  },
  {
   "cell_type": "code",
   "execution_count": null,
   "id": "92bf14d8",
   "metadata": {},
   "outputs": [],
   "source": []
  },
  {
   "cell_type": "code",
   "execution_count": 102,
   "id": "8a15f1d6",
   "metadata": {},
   "outputs": [
    {
     "name": "stdout",
     "output_type": "stream",
     "text": [
      "[[0]\n",
      " [1]\n",
      " [2]\n",
      " [3]\n",
      " [4]\n",
      " [5]\n",
      " [6]\n",
      " [7]\n",
      " [8]\n",
      " [9]]\n",
      "[[ 1]\n",
      " [ 3]\n",
      " [ 5]\n",
      " [ 7]\n",
      " [ 9]\n",
      " [11]\n",
      " [13]\n",
      " [15]\n",
      " [17]\n",
      " [19]]\n"
     ]
    }
   ],
   "source": [
    "# 직선의 방적식을 만들기 위해\n",
    "# y = 2x + 1 에 대한 데이터셋을 만든다.\n",
    "# y = wx + b\n",
    "# w는 2로, b는 1로 가까워 지도록 학습시키기\n",
    "\n",
    "x = np.arange(10).reshape(-1,1)\n",
    "y = (2*x + 1).reshape(-1,1)\n",
    "print(x)\n",
    "print(y)"
   ]
  },
  {
   "cell_type": "code",
   "execution_count": 103,
   "id": "1d446833",
   "metadata": {},
   "outputs": [
    {
     "data": {
      "text/plain": [
       "LinearRegression()"
      ]
     },
     "execution_count": 103,
     "metadata": {},
     "output_type": "execute_result"
    }
   ],
   "source": [
    "# 모델 선언(정의)\n",
    "model = LinearRegression()\n",
    "model"
   ]
  },
  {
   "cell_type": "code",
   "execution_count": 105,
   "id": "c97b0608",
   "metadata": {},
   "outputs": [
    {
     "data": {
      "text/plain": [
       "LinearRegression()"
      ]
     },
     "execution_count": 105,
     "metadata": {},
     "output_type": "execute_result"
    }
   ],
   "source": [
    "# 학습(Training)\n",
    "# model.fit(문제, 답)\n",
    "model.fit(x,y)"
   ]
  },
  {
   "cell_type": "code",
   "execution_count": 106,
   "id": "6e7f4333",
   "metadata": {},
   "outputs": [
    {
     "data": {
      "text/plain": [
       "array([[21.]])"
      ]
     },
     "execution_count": 106,
     "metadata": {},
     "output_type": "execute_result"
    }
   ],
   "source": [
    "# 예측\n",
    "# 학습이 끝나게 되면, 이전에 학습되지 않은 x데이터를 입력해서 예측이 잘 되는지 확인\n",
    "prediction = model.predict([[10.0]])\n",
    "prediction"
   ]
  },
  {
   "cell_type": "code",
   "execution_count": 93,
   "id": "478c53af",
   "metadata": {},
   "outputs": [
    {
     "data": {
      "text/plain": [
       "array([[41.6]])"
      ]
     },
     "execution_count": 93,
     "metadata": {},
     "output_type": "execute_result"
    }
   ],
   "source": [
    "prediction = model.predict([[20.3]])\n",
    "prediction"
   ]
  },
  {
   "cell_type": "code",
   "execution_count": 94,
   "id": "096a0b75",
   "metadata": {},
   "outputs": [
    {
     "data": {
      "text/plain": [
       "array([[31.66]])"
      ]
     },
     "execution_count": 94,
     "metadata": {},
     "output_type": "execute_result"
    }
   ],
   "source": [
    "prediction = model.predict([[15.33]])\n",
    "prediction"
   ]
  },
  {
   "cell_type": "markdown",
   "id": "540bb6e2",
   "metadata": {},
   "source": [
    "## 데이터 분할하는 메소드를 사용해보자\n",
    "### train_test_split() 메소드 활용하기"
   ]
  },
  {
   "cell_type": "code",
   "execution_count": 35,
   "id": "b65c0561",
   "metadata": {},
   "outputs": [],
   "source": [
    "import numpy as np\n",
    "from sklearn.model_selection import train_test_split\n"
   ]
  },
  {
   "cell_type": "code",
   "execution_count": 40,
   "id": "a2312a72",
   "metadata": {},
   "outputs": [],
   "source": [
    "X = [[0,1],[2,3],[4,5],[6,7],[8,9]]\n",
    "Y = [0,1,2,3,4]\n",
    "\n",
    "# X의 전체 데이터 5개 中 20%를 test로 주고 싶다.\n",
    "# train : test = 80% : 20%\n",
    "# random_state는 random seed값을 의미함\n",
    "\n",
    "# 데이터(X)만 train_test_split에 넣은 경우\n",
    "X_train, X_test = train_test_split(X, test_size=0.2, random_state=123)"
   ]
  },
  {
   "cell_type": "code",
   "execution_count": 45,
   "id": "6ee0bb15",
   "metadata": {},
   "outputs": [
    {
     "name": "stdout",
     "output_type": "stream",
     "text": [
      "[[6, 7], [8, 9], [0, 1], [4, 5]]\n",
      "[[2, 3]]\n"
     ]
    }
   ],
   "source": [
    "print(X_train)\n",
    "print(X_test)"
   ]
  },
  {
   "cell_type": "code",
   "execution_count": 46,
   "id": "750fd38f",
   "metadata": {},
   "outputs": [],
   "source": [
    "# 데이터(X)와 레이블(Y)를 함께 train_test_split에 넣은 경우\n",
    "X_train, X_test, Y_train, Y_test = train_test_split(X, Y, test_size=0.2, random_state=123)"
   ]
  },
  {
   "cell_type": "code",
   "execution_count": 48,
   "id": "2765809a",
   "metadata": {},
   "outputs": [
    {
     "name": "stdout",
     "output_type": "stream",
     "text": [
      "[[6, 7], [8, 9], [0, 1], [4, 5]]\n",
      "[3, 4, 0, 2]\n",
      "[[2, 3]]\n",
      "[1]\n"
     ]
    }
   ],
   "source": [
    "print(X_train)\n",
    "print(Y_train)\n",
    "print(X_test)\n",
    "print(Y_test)"
   ]
  },
  {
   "cell_type": "markdown",
   "id": "38135b69",
   "metadata": {},
   "source": [
    "# 당뇨병 1년 후 병의 진전도 예측 모델"
   ]
  },
  {
   "cell_type": "markdown",
   "id": "7b312223",
   "metadata": {},
   "source": [
    "### scikit-learn 데이터셋 중에 load_diabetes()메소드"
   ]
  },
  {
   "cell_type": "code",
   "execution_count": 95,
   "id": "21b1a596",
   "metadata": {},
   "outputs": [],
   "source": [
    "from sklearn.datasets import load_diabetes\n",
    "diabetes = load_diabetes()"
   ]
  },
  {
   "cell_type": "code",
   "execution_count": 96,
   "id": "30d216f7",
   "metadata": {},
   "outputs": [
    {
     "name": "stdout",
     "output_type": "stream",
     "text": [
      ".. _diabetes_dataset:\n",
      "\n",
      "Diabetes dataset\n",
      "----------------\n",
      "\n",
      "Ten baseline variables, age, sex, body mass index, average blood\n",
      "pressure, and six blood serum measurements were obtained for each of n =\n",
      "442 diabetes patients, as well as the response of interest, a\n",
      "quantitative measure of disease progression one year after baseline.\n",
      "\n",
      "**Data Set Characteristics:**\n",
      "\n",
      "  :Number of Instances: 442\n",
      "\n",
      "  :Number of Attributes: First 10 columns are numeric predictive values\n",
      "\n",
      "  :Target: Column 11 is a quantitative measure of disease progression one year after baseline\n",
      "\n",
      "  :Attribute Information:\n",
      "      - age     age in years\n",
      "      - sex\n",
      "      - bmi     body mass index\n",
      "      - bp      average blood pressure\n",
      "      - s1      tc, T-Cells (a type of white blood cells)\n",
      "      - s2      ldl, low-density lipoproteins\n",
      "      - s3      hdl, high-density lipoproteins\n",
      "      - s4      tch, thyroid stimulating hormone\n",
      "      - s5      ltg, lamotrigine\n",
      "      - s6      glu, blood sugar level\n",
      "\n",
      "Note: Each of these 10 feature variables have been mean centered and scaled by the standard deviation times `n_samples` (i.e. the sum of squares of each column totals 1).\n",
      "\n",
      "Source URL:\n",
      "https://www4.stat.ncsu.edu/~boos/var.select/diabetes.html\n",
      "\n",
      "For more information see:\n",
      "Bradley Efron, Trevor Hastie, Iain Johnstone and Robert Tibshirani (2004) \"Least Angle Regression,\" Annals of Statistics (with discussion), 407-499.\n",
      "(https://web.stanford.edu/~hastie/Papers/LARS/LeastAngle_2002.pdf)\n"
     ]
    }
   ],
   "source": [
    "print(diabetes.DESCR)  # DESCR: 데이터셋을 설명(description)하는 함수"
   ]
  },
  {
   "cell_type": "code",
   "execution_count": 97,
   "id": "43b57219",
   "metadata": {},
   "outputs": [
    {
     "name": "stdout",
     "output_type": "stream",
     "text": [
      "feature names: ['age', 'sex', 'bmi', 'bp', 's1', 's2', 's3', 's4', 's5', 's6']\n"
     ]
    }
   ],
   "source": [
    "# Attribute 불러오기\n",
    "features = diabetes.feature_names  \n",
    "print('feature names:', features)"
   ]
  },
  {
   "cell_type": "code",
   "execution_count": 107,
   "id": "24b82a8d",
   "metadata": {},
   "outputs": [
    {
     "name": "stdout",
     "output_type": "stream",
     "text": [
      "(442, 10)\n",
      "(442,)\n"
     ]
    }
   ],
   "source": [
    "print(diabetes.data.shape)    \n",
    "print(diabetes.target.shape) "
   ]
  },
  {
   "cell_type": "code",
   "execution_count": 111,
   "id": "8e1e215a",
   "metadata": {},
   "outputs": [],
   "source": [
    "X = diabetes.data\n",
    "Y = diabetes.target"
   ]
  },
  {
   "cell_type": "code",
   "execution_count": 112,
   "id": "1bd956bf",
   "metadata": {},
   "outputs": [
    {
     "data": {
      "image/png": "[encoded data removed]",
      "text/plain": [
       "<Figure size 432x288 with 1 Axes>"
      ]
     },
     "metadata": {
      "needs_background": "light"
     },
     "output_type": "display_data"
    }
   ],
   "source": [
    "import matplotlib.pyplot as plt\n",
    "\n",
    "# X[2]: BMI지수, Y: target의 관계를 그래프로 그려보기\n",
    "plt.scatter(X[:,2], Y) # 모든 행에서 2번째 열(BMI)만 가져오기\n",
    "plt.xlabel('bmi')\n",
    "plt.ylabel('diabetes.target')\n",
    "plt.show()"
   ]
  },
  {
   "cell_type": "code",
   "execution_count": 110,
   "id": "11e8d44c",
   "metadata": {},
   "outputs": [
    {
     "name": "stdout",
     "output_type": "stream",
     "text": [
      "(442, 1)\n",
      "[[ 0.06169621]\n",
      " [-0.05147406]\n",
      " [ 0.04445121]\n",
      " [-0.01159501]\n",
      " [-0.03638469]]\n"
     ]
    }
   ],
   "source": [
    "bmi = X[:,np.newaxis, 2]\n",
    "print(bmi.shape)\n",
    "print(bmi[:5])   # 0~4행까지 데이터만 확인"
   ]
  },
  {
   "cell_type": "code",
   "execution_count": 71,
   "id": "8f14faa1",
   "metadata": {},
   "outputs": [],
   "source": [
    "# 442개의 데이터를 trian데이터와 test데이터로 나눈다\n",
    "from sklearn.model_selection import train_test_split\n",
    "\n",
    "# 442개를 8:2로 나눈다.\n",
    "bmi_train, bmi_test, y_train, y_test = train_test_split(bmi, Y, test_size=0.2, random_state=123)\n"
   ]
  },
  {
   "cell_type": "code",
   "execution_count": 72,
   "id": "dfcf310a",
   "metadata": {},
   "outputs": [
    {
     "name": "stdout",
     "output_type": "stream",
     "text": [
      "(353, 1)\n",
      "(353,)\n",
      "(89, 1)\n",
      "(89,)\n"
     ]
    }
   ],
   "source": [
    "print(bmi_train.shape)\n",
    "print(y_train.shape)\n",
    "print(bmi_test.shape)\n",
    "print(y_test.shape)"
   ]
  },
  {
   "cell_type": "code",
   "execution_count": 73,
   "id": "50b21360",
   "metadata": {},
   "outputs": [],
   "source": [
    "from sklearn.linear_model import LinearRegression\n",
    "\n",
    "# model 선언(정의)\n",
    "model = LinearRegression()"
   ]
  },
  {
   "cell_type": "code",
   "execution_count": 78,
   "id": "0642ff60",
   "metadata": {},
   "outputs": [
    {
     "data": {
      "text/plain": [
       "LinearRegression()"
      ]
     },
     "execution_count": 78,
     "metadata": {},
     "output_type": "execute_result"
    }
   ],
   "source": [
    "# 모델을 학습(training)\n",
    "model.fit(bmi_train, y_train)"
   ]
  },
  {
   "cell_type": "code",
   "execution_count": 115,
   "id": "a14ef332",
   "metadata": {},
   "outputs": [
    {
     "data": {
      "text/plain": [
       "<matplotlib.collections.PathCollection at 0x198b5ec37b8>"
      ]
     },
     "execution_count": 115,
     "metadata": {},
     "output_type": "execute_result"
    },
    {
     "data": {
      "image/png": "[encoded data removed]",
      "text/plain": [
       "<Figure size 432x288 with 1 Axes>"
      ]
     },
     "metadata": {
      "needs_background": "light"
     },
     "output_type": "display_data"
    }
   ],
   "source": [
    "# 학습된 모델을 테스트 (확인)\n",
    "y_pred = model.predict(bmi_test)\n",
    "plt.scatter(bmi_train, y_train) # 학습 데이터 (파란색)\n",
    "plt.scatter(bmi_test, y_test)   # 정답 데이터 (주황색)\n",
    "plt.scatter(bmi_test, y_pred)   # 예측 데이터 (초록색)"
   ]
  },
  {
   "cell_type": "code",
   "execution_count": null,
   "id": "230ea3ee",
   "metadata": {},
   "outputs": [],
   "source": []
  },
  {
   "cell_type": "code",
   "execution_count": null,
   "id": "72cb01bf",
   "metadata": {},
   "outputs": [],
   "source": []
  }
 ],
 "metadata": {
  "kernelspec": {
   "display_name": "Python 3",
   "language": "python",
   "name": "python3"
  },
  "language_info": {
   "codemirror_mode": {
    "name": "ipython",
    "version": 3
   },
   "file_extension": ".py",
   "mimetype": "text/x-python",
   "name": "python",
   "nbconvert_exporter": "python",
   "pygments_lexer": "ipython3",
   "version": "3.6.13"
  }
 },
 "nbformat": 4,
 "nbformat_minor": 5
}
